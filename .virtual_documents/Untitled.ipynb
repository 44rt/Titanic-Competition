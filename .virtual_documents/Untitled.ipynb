import pandas as pd
import numpy as np
import seaborn as sns
import matplotlib.pyplot as plt


# Read the files
train = pd.read_csv("/Users/roskat/Desktop/DS/titanic/train.csv")
test = pd.read_csv("/Users/roskat/Desktop/DS/titanic/test.csv")
sample = pd.read_csv("/Users/roskat/Desktop/DS/titanic/gender_submission.csv")



